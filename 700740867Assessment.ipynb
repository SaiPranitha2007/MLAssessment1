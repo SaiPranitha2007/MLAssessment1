{
 "cells": [
  {
   "cell_type": "code",
   "execution_count": 41,
   "id": "4d6732e4",
   "metadata": {},
   "outputs": [
    {
     "name": "stdout",
     "output_type": "stream",
     "text": [
      "\n",
      "Ages after sorting:  [19, 19, 20, 22, 24, 24, 24, 25, 25, 26]\n",
      "\n",
      "Minimum value of ages:  19\n",
      "\n",
      "Maximum value of ages:  26\n",
      "\n",
      "Updated List:  [19, 19, 19, 20, 22, 24, 24, 24, 25, 25, 26, 26]\n",
      "\n",
      "Median of ages:  24.0\n",
      "\n",
      "Mean of ages:  22.75\n",
      "\n",
      "Range of ages:  7\n"
     ]
    }
   ],
   "source": [
    "#1\n",
    "\n",
    "import statistics\n",
    "\n",
    "ages = [19, 22, 19, 24, 20, 25, 26, 24, 25, 24]\n",
    "\n",
    "ages.sort()\n",
    "print(\"\\nAges after sorting: \", ages)\n",
    "\n",
    "print(\"\\nMinimum value of ages: \", min(ages))\n",
    "print(\"\\nMaximum value of ages: \", max(ages))\n",
    "\n",
    "ages.insert(0, min(ages))\n",
    "ages.append(max(ages))\n",
    "print(\"\\nUpdated List: \", ages)\n",
    "\n",
    "print(\"\\nMedian of ages: \", statistics.median(ages))\n",
    "print(\"\\nMean of ages: \", statistics.mean(ages))\n",
    "\n",
    "print(\"\\nRange of ages: \", max(ages)-min(ages))"
   ]
  },
  {
   "cell_type": "code",
   "execution_count": 14,
   "id": "adf725d4",
   "metadata": {},
   "outputs": [
    {
     "name": "stdout",
     "output_type": "stream",
     "text": [
      "Updated dog dictionary:  {'name': 'vicky', 'color': 'Cream', 'breed': 'lab', 'legs': 4, 'age': 2}\n",
      "\n",
      "Student dictionary after adding keys:  {'first_name': None, 'last_name': None, 'gender': None, 'age': None, 'marital_status': None, 'skills': None, 'country': None, 'city': None, 'address': None}\n",
      "\n",
      "length of student dictionary:  9\n",
      "\n",
      "Student_dict  {'first_name': 'prani', 'last_name': 'Guthikonda', 'gender': 'female', 'age': '23', 'marital_status': 'single', 'skills': ['Java', 'Python'], 'country': 'India', 'city': 'Vijayawada', 'address': ' SER centre'}\n",
      "\n",
      "Accessing Skills value in dictionary:  ['Java', 'Python']\n",
      "\n",
      "Data type of skills in student dict:  <class 'list'>\n",
      "\n",
      "Modified skill list:  ['Java', 'Python', 'HTML', 'C']\n",
      "\n",
      "Student keys dict_keys(['first_name', 'last_name', 'gender', 'age', 'marital_status', 'skills', 'country', 'city', 'address'])\n",
      "\n",
      "Student values dict_values(['prani', 'Guthikonda', 'female', '23', 'single', ['Java', 'Python', 'HTML', 'C'], 'India', 'Vijayawada', ' SER centre'])\n"
     ]
    }
   ],
   "source": [
    "dog = dict()\n",
    "dog.update({\"name\":\"vicky\", \"color\":\"Cream\", \"breed\":\"lab\", \"legs\":4, \"age\":2})\n",
    "print(\"Updated dog dictionary: \", dog)\n",
    "student_dict = dict()\n",
    "keyList = [\"first_name\", \"last_name\", \"gender\", \"age\", \"marital_status\", \"skills\", \"country\", \"city\", \"address\"]\n",
    "student_dict.update({key: None for key in keyList})\n",
    "print(\"\\nStudent dictionary after adding keys: \", student_dict)\n",
    "print(\"\\nlength of student dictionary: \", len(student_dict))\n",
    "student_dict.update({\"first_name\": \"prani\", \"last_name\": \"Guthikonda\", \"gender\": \"female\", \"age\": \"23\", \"marital_status\": \"single\", \"skills\": [\"Java\", \"Python\"], \"country\": \"India\", \"city\": \"Vijayawada\", \"address\": \" SER centre\"})\n",
    "print(\"\\nStudent_dict \", student_dict)\n",
    "print(\"\\nAccessing Skills value in dictionary: \", student_dict[\"skills\"])\n",
    "print(\"\\nData type of skills in student dict: \", type(student_dict[\"skills\"]))\n",
    "student_dict[\"skills\"].extend([\"HTML\", \"C\"])\n",
    "print(\"\\nModified skill list: \", student_dict[\"skills\"])\n",
    "print(\"\\nStudent keys\", student_dict.keys())\n",
    "print(\"\\nStudent values\", student_dict.values())"
   ]
  },
  {
   "cell_type": "code",
   "execution_count": 21,
   "id": "1a3f77cc",
   "metadata": {},
   "outputs": [
    {
     "name": "stdout",
     "output_type": "stream",
     "text": [
      "\n",
      "Sisters:  ('Srilu', 'chinni', 'pachi')\n",
      "\n",
      "Brothers:  ('chanakya', 'jayaram', 'sai')\n",
      "\n",
      "Siblings:  ('Srilu', 'chinni', 'pachi', 'chanakya', 'jayaram', 'sai')\n",
      "\n",
      "Number of siblings:  6\n",
      "\n",
      "Family_members:  ('Srilu', 'chinni', 'pachi', 'chanakya', 'jayaram', 'sai', 'Nani', 'Sailu')\n"
     ]
    }
   ],
   "source": [
    "Sisters = (\"Srilu\",\"chinni\",\"pachi\")\n",
    "print(\"\\nSisters: \", Sisters)\n",
    "\n",
    "brothers = (\"chanakya\",\"jayaram\",\"sai\")\n",
    "print(\"\\nBrothers: \", brothers)\n",
    "\n",
    "siblings = Sisters+brothers\n",
    "print(\"\\nSiblings: \", siblings)\n",
    "\n",
    "print(\"\\nNumber of siblings: \", len(siblings))\n",
    "\n",
    "family_members = siblings+(\"Nani\",\"Sailu\")\n",
    "print(\"\\nFamily_members: \", family_members)\n"
   ]
  },
  {
   "cell_type": "code",
   "execution_count": 40,
   "id": "2c691658",
   "metadata": {},
   "outputs": [
    {
     "name": "stdout",
     "output_type": "stream",
     "text": [
      "Length of Set it_companies:  7\n",
      "\n",
      "Set after adding new company {'Oracle', 'Apple', 'Amazon', 'Facebook', 'Twitter', 'Microsoft', 'Google', 'IBM'}\n",
      "\n",
      "Set after Updating it_companies:  {'Apple', 'Salesforce', 'Twitter', 'Google', 'Deloitte', 'IBM', 'TCS', 'Amazon', 'Microsoft', 'Infosys', 'Facebook', 'LinkedIn', 'Oracle'}\n",
      "\n",
      "Set after removing one it_company:  {'Apple', 'Salesforce', 'Twitter', 'Google', 'Deloitte', 'IBM', 'TCS', 'Amazon', 'Microsoft', 'Facebook', 'LinkedIn', 'Oracle'}\n",
      "\n",
      "Difference between Remove() and Discard(): \n",
      "Remove(): throws error if the required item is not present in list \n",
      "Discard(): Will not throw any error if item doesn't exist in list\n",
      "\n",
      "Union of A and B sets:  {19, 20, 22, 24, 25, 26, 27, 28}\n",
      "\n",
      "Intersection of A and B sets:  {19, 20, 22, 24, 25, 26}\n",
      "\n",
      "Is A subset of B? True\n",
      "\n",
      "A and B are disjoint sets? False\n",
      "\n",
      "(AUB) AND (BUA):  {19, 20, 22, 24, 25, 26, 27, 28}\n",
      "\n",
      "Symmetric Difference of A with B:  {27, 28}\n",
      "After clear Set A values:  set() \tSet B values:  set()\n",
      "\n",
      "Age list:  [22, 19, 24, 25, 26, 24, 25, 24]\n",
      "\n",
      "Age list:  {19, 22, 24, 25, 26}\n",
      "\n",
      "Length of age list:  8 \n",
      "Length of age set 5\n"
     ]
    }
   ],
   "source": [
    "it_companies = {'Facebook', 'Google', 'Microsoft', 'Apple', 'IBM', 'Oracle', 'Amazon'}\n",
    "print(\"Length of Set it_companies: \", len(it_companies))\n",
    "it_companies.add('Twitter')\n",
    "print('\\nSet after adding new company', it_companies)\n",
    "it_companies.update(['Deloitte', 'TCS', 'Salesforce', 'Infosys', 'LinkedIn'])\n",
    "print(\"\\nSet after Updating it_companies: \", it_companies)\n",
    "it_companies.remove(\"Infosys\")\n",
    "print(\"\\nSet after removing one it_company: \", it_companies)\n",
    "#difference between remove() and discard()\n",
    "print(\"\\nDifference between Remove() and Discard(): \\nRemove(): throws error if the required item is not present in list \\nDiscard(): Will not throw any error if item doesn't exist in list\")\n",
    "A={19, 22, 24, 20, 25, 26}\n",
    "B={19, 22, 20, 25, 26, 24, 28, 27}\n",
    "print(\"\\nUnion of A and B sets: \", A.union(B))\n",
    "print(\"\\nIntersection of A and B sets: \", A.intersection(B))\n",
    "print(\"\\nIs A subset of B?\", A.issubset(B))\n",
    "print(\"\\nA and B are disjoint sets?\", A.isdisjoint(B))\n",
    "print(\"\\n(AUB) AND (BUA): \",(A.union(B)).intersection(B.union(A)))\n",
    "print(\"\\nSymmetric Difference of A with B: \", A.symmetric_difference(B))\n",
    "A.clear()\n",
    "B.clear()\n",
    "print(\"After clear Set A values: \", A,\"\\tSet B values: \", B)\n",
    "age = [22, 19, 24, 25, 26, 24, 25, 24]\n",
    "print(\"\\nAge list: \", age)\n",
    "set_age = set(age)\n",
    "print(\"\\nAge list: \", set_age)\n",
    "print(\"\\nLength of age list: \", len(age), \"\\nLength of age set\", len(set_age))\n"
   ]
  },
  {
   "cell_type": "code",
   "execution_count": 31,
   "id": "8f9f06c5",
   "metadata": {},
   "outputs": [
    {
     "name": "stdout",
     "output_type": "stream",
     "text": [
      "\n",
      "Area of circle =  2827.4333882308138 meters square\n",
      "\n",
      "Circumference of a circle =  188.49555921538757 meters\n",
      "\n",
      "Enter radius of a circle: 10\n",
      "\n",
      "Area of circle =  314.1592653589793 meters square\n"
     ]
    }
   ],
   "source": [
    "from math import pi\n",
    "\n",
    "circle_radius = 30\n",
    "\n",
    "_area_of_circle_ = pi * circle_radius **2\n",
    "print(\"\\nArea of circle = \", _area_of_circle_, \"meters square\")\n",
    "\n",
    "_circum_of_circle_ = 2 * pi * circle_radius\n",
    "print(\"\\nCircumference of a circle = \", _circum_of_circle_, \"meters\")\n",
    "\n",
    "circle_radius = float(input(\"\\nEnter radius of a circle: \"))\n",
    "_area_of_circle_ = pi * circle_radius **2\n",
    "print(\"\\nArea of circle = \", _area_of_circle_, \"meters square\")"
   ]
  },
  {
   "cell_type": "code",
   "execution_count": 29,
   "id": "394c1c84",
   "metadata": {},
   "outputs": [
    {
     "name": "stdout",
     "output_type": "stream",
     "text": [
      "Number of unique words:  10 {'love', 'a', 'people', 'teacher', 'I', 'and', 'to', 'am', 'inspire', 'teach'}\n"
     ]
    }
   ],
   "source": [
    "unique_words = set((\"I am a teacher and I love to inspire and teach people\". split(\" \")))\n",
    "\n",
    "print(\"Number of unique words: \", len(unique_words), unique_words)"
   ]
  },
  {
   "cell_type": "code",
   "execution_count": 36,
   "id": "8f424a39",
   "metadata": {},
   "outputs": [
    {
     "name": "stdout",
     "output_type": "stream",
     "text": [
      "Name \t Age \t Country  City\n",
      "Asabench 250 \tFinland  Helsinki\n"
     ]
    }
   ],
   "source": [
    "text = \"Name \\t Age \\t Country  City\\nAsabench 250 \\tFinland  Helsinki\"\n",
    "\n",
    "print(text)"
   ]
  },
  {
   "cell_type": "code",
   "execution_count": 39,
   "id": "b23c8293",
   "metadata": {},
   "outputs": [
    {
     "name": "stdout",
     "output_type": "stream",
     "text": [
      "The area of a circle with radius 10 is 314 meters square\n"
     ]
    }
   ],
   "source": [
    "radius = 10\n",
    "area = 3.14 * radius **2\n",
    "print(\"The area of a circle with radius\", radius, \"is %.0f\" %area, \"meters square\")"
   ]
  },
  {
   "cell_type": "code",
   "execution_count": 1,
   "id": "a3088db6",
   "metadata": {},
   "outputs": [
    {
     "name": "stdout",
     "output_type": "stream",
     "text": [
      "Enter number of students: 4\n",
      "Enter weight of 1 student in lbs: 150\n",
      "Enter weight of 2 student in lbs: 155\n",
      "Enter weight of 3 student in lbs: 145\n",
      "Enter weight of 4 student in lbs: 148\n",
      "weight of student in kgs:  [68.04, 70.31, 65.77, 67.13]\n"
     ]
    }
   ],
   "source": [
    "No_of_students = int(input(\"Enter number of students: \"))\n",
    "\n",
    "weight_of_students_lbs = list()\n",
    "weight_of_students_kgs = list()\n",
    "\n",
    "for eachstudent in range(No_of_students):\n",
    "    \n",
    "    weight_lb = int(input(\"Enter weight of {} student in lbs: \".format(eachstudent+1)))\n",
    "    weight_of_students_lbs.insert(eachstudent, weight_lb)\n",
    "    \n",
    "    weight_kg = float(\"%.2f\" %(weight_lb*0.453592))\n",
    "    weight_of_students_kgs.insert(eachstudent, weight_kg)\n",
    "\n",
    "#print(\"weight of student in lbs: \",weight_of_students_lbs)\n",
    "print(\"weight of student in kgs: \",weight_of_students_kgs)\n",
    "\n",
    "    "
   ]
  },
  {
   "cell_type": "code",
   "execution_count": null,
   "id": "3b54c5dd",
   "metadata": {},
   "outputs": [],
   "source": [
    "import numpy as nm\n",
    "import pandas as pd\n",
    "from sklearn.model_selection import train_test_split\n",
    "from sklearn.preprocessing import StandardScaler\n",
    "from sklearn.neighbors import KNeighborsClassifier\n",
    "from sklearn.metrics import confusion_matrix\n",
    "\n"
   ]
  },
  {
   "cell_type": "code",
   "execution_count": null,
   "id": "40b7b3dc",
   "metadata": {},
   "outputs": [],
   "source": []
  }
 ],
 "metadata": {
  "kernelspec": {
   "display_name": "Python 3 (ipykernel)",
   "language": "python",
   "name": "python3"
  },
  "language_info": {
   "codemirror_mode": {
    "name": "ipython",
    "version": 3
   },
   "file_extension": ".py",
   "mimetype": "text/x-python",
   "name": "python",
   "nbconvert_exporter": "python",
   "pygments_lexer": "ipython3",
   "version": "3.9.12"
  }
 },
 "nbformat": 4,
 "nbformat_minor": 5
}
