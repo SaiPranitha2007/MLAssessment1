{
 "cells": [
  {
   "cell_type": "code",
   "execution_count": 3,
   "id": "29c0e50e",
   "metadata": {},
   "outputs": [
    {
     "name": "stdout",
     "output_type": "stream",
     "text": [
      "[[16  3  5  8 17 18 10 17  2 13  4 18  2  8 19]]\n",
      "\n",
      "\n",
      "shape of array:  (3, 5) \n",
      "\n",
      "[[16  3  5  8 17]\n",
      " [18 10 17  2 13]\n",
      " [ 4 18  2  8 19]]\n",
      "\n",
      "\n",
      "[[16  3  5  8  0]\n",
      " [ 0 10 17  2 13]\n",
      " [ 4 18  2  8  0]]\n"
     ]
    }
   ],
   "source": [
    "import numpy as np\n",
    "\n",
    "#creating random vector of size 15 in range of 1,20.\n",
    "random_array=np.random.randint(1,20,(1,15))\n",
    "print(random_array)\n",
    "print(\"\\n\")\n",
    "\n",
    "#reshaping the vector to 3,5\n",
    "array=np.reshape(random_array,(3,5))\n",
    "print(\"shape of array: \", array.shape, \"\\n\")\n",
    "print(array)\n",
    "\n",
    "print(\"\\n\")\n",
    "\n",
    "#replacing the maximum value to 0 in each row\n",
    "for i in array:\n",
    "    i[np.where(i==i.max())]=0\n",
    "print(array)"
   ]
  },
  {
   "cell_type": "code",
   "execution_count": 1,
   "id": "17e03d68",
   "metadata": {},
   "outputs": [
    {
     "data": {
      "image/png": "[encoded data removed]",
      "text/plain": [
       "<Figure size 432x288 with 1 Axes>"
      ]
     },
     "metadata": {},
     "output_type": "display_data"
    }
   ],
   "source": [
    "import matplotlib.pyplot as plt\n",
    "import numpy as np\n",
    "\n",
    "#data to be plotted\n",
    "popularity = np.array([22.2, 17.6, 8.8, 8, 7.7, 6.7])\n",
    "labels = [\"Java\", \"Python\", \"PHP\", \"JavaScript\", \"C#\", \"C++\"]\n",
    "colors = [\"#1f77b4\", \"#ff7f0e\", \"#2ca02c\", \"#d62728\", \"#9467bd\", \"#8c564b\"]\n",
    "\n",
    "#explode is used to separate a slice from piechart\n",
    "#explode first slice\n",
    "myexplode = [0.1, 0, 0, 0,0,0]\n",
    "\n",
    "#autopct is used to print values using python string format\n",
    "plt.pie(popularity, labels=labels, explode=myexplode, colors=colors, autopct='%1.1f%%', startangle=140)\n",
    "plt.show()"
   ]
  },
  {
   "cell_type": "code",
   "execution_count": 46,
   "id": "0dbe7a47",
   "metadata": {},
   "outputs": [
    {
     "name": "stdout",
     "output_type": "stream",
     "text": [
      "     Duration  Pulse  Maxpulse  Calories\n",
      "0          60    110       130     409.1\n",
      "1          60    117       145     479.0\n",
      "2          60    103       135     340.0\n",
      "3          45    109       175     282.4\n",
      "4          45    117       148     406.0\n",
      "..        ...    ...       ...       ...\n",
      "164        60    105       140     290.8\n",
      "165        60    110       145     300.0\n",
      "166        60    115       145     310.2\n",
      "167        75    120       150     320.4\n",
      "168        75    125       150     330.4\n",
      "\n",
      "[169 rows x 4 columns]\n"
     ]
    }
   ],
   "source": [
    "import pandas as pd\n",
    "\n",
    "#reading the csv file\n",
    "csv_data = pd.read_csv(\"data.csv\")\n",
    "print(csv_data)"
   ]
  },
  {
   "cell_type": "code",
   "execution_count": 32,
   "id": "baa5ac22",
   "metadata": {},
   "outputs": [
    {
     "data": {
      "text/html": [
       "<div>\n",
       "<style scoped>\n",
       "    .dataframe tbody tr th:only-of-type {\n",
       "        vertical-align: middle;\n",
       "    }\n",
       "\n",
       "    .dataframe tbody tr th {\n",
       "        vertical-align: top;\n",
       "    }\n",
       "\n",
       "    .dataframe thead th {\n",
       "        text-align: right;\n",
       "    }\n",
       "</style>\n",
       "<table border=\"1\" class=\"dataframe\">\n",
       "  <thead>\n",
       "    <tr style=\"text-align: right;\">\n",
       "      <th></th>\n",
       "      <th>Duration</th>\n",
       "      <th>Pulse</th>\n",
       "      <th>Maxpulse</th>\n",
       "      <th>Calories</th>\n",
       "    </tr>\n",
       "  </thead>\n",
       "  <tbody>\n",
       "    <tr>\n",
       "      <th>count</th>\n",
       "      <td>169.000000</td>\n",
       "      <td>169.000000</td>\n",
       "      <td>169.000000</td>\n",
       "      <td>164.000000</td>\n",
       "    </tr>\n",
       "    <tr>\n",
       "      <th>mean</th>\n",
       "      <td>63.846154</td>\n",
       "      <td>107.461538</td>\n",
       "      <td>134.047337</td>\n",
       "      <td>375.790244</td>\n",
       "    </tr>\n",
       "    <tr>\n",
       "      <th>std</th>\n",
       "      <td>42.299949</td>\n",
       "      <td>14.510259</td>\n",
       "      <td>16.450434</td>\n",
       "      <td>266.379919</td>\n",
       "    </tr>\n",
       "    <tr>\n",
       "      <th>min</th>\n",
       "      <td>15.000000</td>\n",
       "      <td>80.000000</td>\n",
       "      <td>100.000000</td>\n",
       "      <td>50.300000</td>\n",
       "    </tr>\n",
       "    <tr>\n",
       "      <th>25%</th>\n",
       "      <td>45.000000</td>\n",
       "      <td>100.000000</td>\n",
       "      <td>124.000000</td>\n",
       "      <td>250.925000</td>\n",
       "    </tr>\n",
       "    <tr>\n",
       "      <th>50%</th>\n",
       "      <td>60.000000</td>\n",
       "      <td>105.000000</td>\n",
       "      <td>131.000000</td>\n",
       "      <td>318.600000</td>\n",
       "    </tr>\n",
       "    <tr>\n",
       "      <th>75%</th>\n",
       "      <td>60.000000</td>\n",
       "      <td>111.000000</td>\n",
       "      <td>141.000000</td>\n",
       "      <td>387.600000</td>\n",
       "    </tr>\n",
       "    <tr>\n",
       "      <th>max</th>\n",
       "      <td>300.000000</td>\n",
       "      <td>159.000000</td>\n",
       "      <td>184.000000</td>\n",
       "      <td>1860.400000</td>\n",
       "    </tr>\n",
       "  </tbody>\n",
       "</table>\n",
       "</div>"
      ],
      "text/plain": [
       "         Duration       Pulse    Maxpulse     Calories\n",
       "count  169.000000  169.000000  169.000000   164.000000\n",
       "mean    63.846154  107.461538  134.047337   375.790244\n",
       "std     42.299949   14.510259   16.450434   266.379919\n",
       "min     15.000000   80.000000  100.000000    50.300000\n",
       "25%     45.000000  100.000000  124.000000   250.925000\n",
       "50%     60.000000  105.000000  131.000000   318.600000\n",
       "75%     60.000000  111.000000  141.000000   387.600000\n",
       "max    300.000000  159.000000  184.000000  1860.400000"
      ]
     },
     "execution_count": 32,
     "metadata": {},
     "output_type": "execute_result"
    }
   ],
   "source": [
    "#Show the basic statistical description about the data.\n",
    "\n",
    "csv_data.describe()"
   ]
  },
  {
   "cell_type": "code",
   "execution_count": 33,
   "id": "d48ecea2",
   "metadata": {},
   "outputs": [
    {
     "data": {
      "text/plain": [
       "Duration    False\n",
       "Pulse       False\n",
       "Maxpulse    False\n",
       "Calories     True\n",
       "dtype: bool"
      ]
     },
     "execution_count": 33,
     "metadata": {},
     "output_type": "execute_result"
    }
   ],
   "source": [
    "#Check if the data has null values. \n",
    "#isnull is used to check whether the value is null or not\n",
    "\n",
    "csv_data.isnull().any()"
   ]
  },
  {
   "cell_type": "code",
   "execution_count": 34,
   "id": "2d28decc",
   "metadata": {},
   "outputs": [
    {
     "data": {
      "text/plain": [
       "Duration    False\n",
       "Pulse       False\n",
       "Maxpulse    False\n",
       "Calories    False\n",
       "dtype: bool"
      ]
     },
     "execution_count": 34,
     "metadata": {},
     "output_type": "execute_result"
    }
   ],
   "source": [
    "#Replace the null values with the mean\n",
    "#fillna is used to replace the null value with specified value\n",
    "csv_data.fillna(data.mean(), inplace=True)\n",
    "csv_data.isnull().any()"
   ]
  },
  {
   "cell_type": "code",
   "execution_count": 35,
   "id": "591b8a61",
   "metadata": {},
   "outputs": [
    {
     "data": {
      "text/html": [
       "<div>\n",
       "<style scoped>\n",
       "    .dataframe tbody tr th:only-of-type {\n",
       "        vertical-align: middle;\n",
       "    }\n",
       "\n",
       "    .dataframe tbody tr th {\n",
       "        vertical-align: top;\n",
       "    }\n",
       "\n",
       "    .dataframe thead th {\n",
       "        text-align: right;\n",
       "    }\n",
       "</style>\n",
       "<table border=\"1\" class=\"dataframe\">\n",
       "  <thead>\n",
       "    <tr style=\"text-align: right;\">\n",
       "      <th></th>\n",
       "      <th>Duration</th>\n",
       "      <th>Pulse</th>\n",
       "    </tr>\n",
       "  </thead>\n",
       "  <tbody>\n",
       "    <tr>\n",
       "      <th>min</th>\n",
       "      <td>15.000000</td>\n",
       "      <td>80.000000</td>\n",
       "    </tr>\n",
       "    <tr>\n",
       "      <th>max</th>\n",
       "      <td>300.000000</td>\n",
       "      <td>159.000000</td>\n",
       "    </tr>\n",
       "    <tr>\n",
       "      <th>count</th>\n",
       "      <td>169.000000</td>\n",
       "      <td>169.000000</td>\n",
       "    </tr>\n",
       "    <tr>\n",
       "      <th>mean</th>\n",
       "      <td>63.846154</td>\n",
       "      <td>107.461538</td>\n",
       "    </tr>\n",
       "  </tbody>\n",
       "</table>\n",
       "</div>"
      ],
      "text/plain": [
       "         Duration       Pulse\n",
       "min     15.000000   80.000000\n",
       "max    300.000000  159.000000\n",
       "count  169.000000  169.000000\n",
       "mean    63.846154  107.461538"
      ]
     },
     "execution_count": 35,
     "metadata": {},
     "output_type": "execute_result"
    }
   ],
   "source": [
    "#Select at least two columns and aggregate the data using: min, max, count, mean.\n",
    "\n",
    "csv_data.agg({'Duration':['min','max','count','mean'],'Pulse':['min','max','count','mean']})"
   ]
  },
  {
   "cell_type": "code",
   "execution_count": 36,
   "id": "c5a7eece",
   "metadata": {},
   "outputs": [
    {
     "data": {
      "text/html": [
       "<div>\n",
       "<style scoped>\n",
       "    .dataframe tbody tr th:only-of-type {\n",
       "        vertical-align: middle;\n",
       "    }\n",
       "\n",
       "    .dataframe tbody tr th {\n",
       "        vertical-align: top;\n",
       "    }\n",
       "\n",
       "    .dataframe thead th {\n",
       "        text-align: right;\n",
       "    }\n",
       "</style>\n",
       "<table border=\"1\" class=\"dataframe\">\n",
       "  <thead>\n",
       "    <tr style=\"text-align: right;\">\n",
       "      <th></th>\n",
       "      <th>Duration</th>\n",
       "      <th>Pulse</th>\n",
       "      <th>Maxpulse</th>\n",
       "      <th>Calories</th>\n",
       "    </tr>\n",
       "  </thead>\n",
       "  <tbody>\n",
       "    <tr>\n",
       "      <th>51</th>\n",
       "      <td>80</td>\n",
       "      <td>123</td>\n",
       "      <td>146</td>\n",
       "      <td>643.1</td>\n",
       "    </tr>\n",
       "    <tr>\n",
       "      <th>62</th>\n",
       "      <td>160</td>\n",
       "      <td>109</td>\n",
       "      <td>135</td>\n",
       "      <td>853.0</td>\n",
       "    </tr>\n",
       "    <tr>\n",
       "      <th>65</th>\n",
       "      <td>180</td>\n",
       "      <td>90</td>\n",
       "      <td>130</td>\n",
       "      <td>800.4</td>\n",
       "    </tr>\n",
       "    <tr>\n",
       "      <th>66</th>\n",
       "      <td>150</td>\n",
       "      <td>105</td>\n",
       "      <td>135</td>\n",
       "      <td>873.4</td>\n",
       "    </tr>\n",
       "    <tr>\n",
       "      <th>67</th>\n",
       "      <td>150</td>\n",
       "      <td>107</td>\n",
       "      <td>130</td>\n",
       "      <td>816.0</td>\n",
       "    </tr>\n",
       "    <tr>\n",
       "      <th>72</th>\n",
       "      <td>90</td>\n",
       "      <td>100</td>\n",
       "      <td>127</td>\n",
       "      <td>700.0</td>\n",
       "    </tr>\n",
       "    <tr>\n",
       "      <th>73</th>\n",
       "      <td>150</td>\n",
       "      <td>97</td>\n",
       "      <td>127</td>\n",
       "      <td>953.2</td>\n",
       "    </tr>\n",
       "    <tr>\n",
       "      <th>75</th>\n",
       "      <td>90</td>\n",
       "      <td>98</td>\n",
       "      <td>125</td>\n",
       "      <td>563.2</td>\n",
       "    </tr>\n",
       "    <tr>\n",
       "      <th>78</th>\n",
       "      <td>120</td>\n",
       "      <td>100</td>\n",
       "      <td>130</td>\n",
       "      <td>500.4</td>\n",
       "    </tr>\n",
       "    <tr>\n",
       "      <th>90</th>\n",
       "      <td>180</td>\n",
       "      <td>101</td>\n",
       "      <td>127</td>\n",
       "      <td>600.1</td>\n",
       "    </tr>\n",
       "    <tr>\n",
       "      <th>99</th>\n",
       "      <td>90</td>\n",
       "      <td>93</td>\n",
       "      <td>124</td>\n",
       "      <td>604.1</td>\n",
       "    </tr>\n",
       "    <tr>\n",
       "      <th>103</th>\n",
       "      <td>90</td>\n",
       "      <td>90</td>\n",
       "      <td>100</td>\n",
       "      <td>500.4</td>\n",
       "    </tr>\n",
       "    <tr>\n",
       "      <th>106</th>\n",
       "      <td>180</td>\n",
       "      <td>90</td>\n",
       "      <td>120</td>\n",
       "      <td>800.3</td>\n",
       "    </tr>\n",
       "    <tr>\n",
       "      <th>108</th>\n",
       "      <td>90</td>\n",
       "      <td>90</td>\n",
       "      <td>120</td>\n",
       "      <td>500.3</td>\n",
       "    </tr>\n",
       "  </tbody>\n",
       "</table>\n",
       "</div>"
      ],
      "text/plain": [
       "     Duration  Pulse  Maxpulse  Calories\n",
       "51         80    123       146     643.1\n",
       "62        160    109       135     853.0\n",
       "65        180     90       130     800.4\n",
       "66        150    105       135     873.4\n",
       "67        150    107       130     816.0\n",
       "72         90    100       127     700.0\n",
       "73        150     97       127     953.2\n",
       "75         90     98       125     563.2\n",
       "78        120    100       130     500.4\n",
       "90        180    101       127     600.1\n",
       "99         90     93       124     604.1\n",
       "103        90     90       100     500.4\n",
       "106       180     90       120     800.3\n",
       "108        90     90       120     500.3"
      ]
     },
     "execution_count": 36,
     "metadata": {},
     "output_type": "execute_result"
    }
   ],
   "source": [
    "#Filter the dataframe to select the rows with calories values between 500 and 1000.\n",
    "#loc is used to accessing the group of lables in rows and columns\n",
    "csv_data.loc[(csv_data['Calories']>500)&(csv_data['Calories']<1000)]"
   ]
  },
  {
   "cell_type": "code",
   "execution_count": 38,
   "id": "1540df98",
   "metadata": {},
   "outputs": [
    {
     "data": {
      "text/html": [
       "<div>\n",
       "<style scoped>\n",
       "    .dataframe tbody tr th:only-of-type {\n",
       "        vertical-align: middle;\n",
       "    }\n",
       "\n",
       "    .dataframe tbody tr th {\n",
       "        vertical-align: top;\n",
       "    }\n",
       "\n",
       "    .dataframe thead th {\n",
       "        text-align: right;\n",
       "    }\n",
       "</style>\n",
       "<table border=\"1\" class=\"dataframe\">\n",
       "  <thead>\n",
       "    <tr style=\"text-align: right;\">\n",
       "      <th></th>\n",
       "      <th>Duration</th>\n",
       "      <th>Pulse</th>\n",
       "      <th>Maxpulse</th>\n",
       "      <th>Calories</th>\n",
       "    </tr>\n",
       "  </thead>\n",
       "  <tbody>\n",
       "    <tr>\n",
       "      <th>65</th>\n",
       "      <td>180</td>\n",
       "      <td>90</td>\n",
       "      <td>130</td>\n",
       "      <td>800.4</td>\n",
       "    </tr>\n",
       "    <tr>\n",
       "      <th>70</th>\n",
       "      <td>150</td>\n",
       "      <td>97</td>\n",
       "      <td>129</td>\n",
       "      <td>1115.0</td>\n",
       "    </tr>\n",
       "    <tr>\n",
       "      <th>73</th>\n",
       "      <td>150</td>\n",
       "      <td>97</td>\n",
       "      <td>127</td>\n",
       "      <td>953.2</td>\n",
       "    </tr>\n",
       "    <tr>\n",
       "      <th>75</th>\n",
       "      <td>90</td>\n",
       "      <td>98</td>\n",
       "      <td>125</td>\n",
       "      <td>563.2</td>\n",
       "    </tr>\n",
       "    <tr>\n",
       "      <th>99</th>\n",
       "      <td>90</td>\n",
       "      <td>93</td>\n",
       "      <td>124</td>\n",
       "      <td>604.1</td>\n",
       "    </tr>\n",
       "    <tr>\n",
       "      <th>103</th>\n",
       "      <td>90</td>\n",
       "      <td>90</td>\n",
       "      <td>100</td>\n",
       "      <td>500.4</td>\n",
       "    </tr>\n",
       "    <tr>\n",
       "      <th>106</th>\n",
       "      <td>180</td>\n",
       "      <td>90</td>\n",
       "      <td>120</td>\n",
       "      <td>800.3</td>\n",
       "    </tr>\n",
       "    <tr>\n",
       "      <th>108</th>\n",
       "      <td>90</td>\n",
       "      <td>90</td>\n",
       "      <td>120</td>\n",
       "      <td>500.3</td>\n",
       "    </tr>\n",
       "  </tbody>\n",
       "</table>\n",
       "</div>"
      ],
      "text/plain": [
       "     Duration  Pulse  Maxpulse  Calories\n",
       "65        180     90       130     800.4\n",
       "70        150     97       129    1115.0\n",
       "73        150     97       127     953.2\n",
       "75         90     98       125     563.2\n",
       "99         90     93       124     604.1\n",
       "103        90     90       100     500.4\n",
       "106       180     90       120     800.3\n",
       "108        90     90       120     500.3"
      ]
     },
     "execution_count": 38,
     "metadata": {},
     "output_type": "execute_result"
    }
   ],
   "source": [
    "#Filter the dataframe to select the rows with calories values > 500 and pulse < 100.\n",
    "csv_data.loc[(csv_data['Calories']>500)&(csv_data['Pulse']<100)]"
   ]
  },
  {
   "cell_type": "code",
   "execution_count": 52,
   "id": "d76234a8",
   "metadata": {},
   "outputs": [
    {
     "data": {
      "text/html": [
       "<div>\n",
       "<style scoped>\n",
       "    .dataframe tbody tr th:only-of-type {\n",
       "        vertical-align: middle;\n",
       "    }\n",
       "\n",
       "    .dataframe tbody tr th {\n",
       "        vertical-align: top;\n",
       "    }\n",
       "\n",
       "    .dataframe thead th {\n",
       "        text-align: right;\n",
       "    }\n",
       "</style>\n",
       "<table border=\"1\" class=\"dataframe\">\n",
       "  <thead>\n",
       "    <tr style=\"text-align: right;\">\n",
       "      <th></th>\n",
       "      <th>Duration</th>\n",
       "      <th>Pulse</th>\n",
       "      <th>Calories</th>\n",
       "    </tr>\n",
       "  </thead>\n",
       "  <tbody>\n",
       "    <tr>\n",
       "      <th>0</th>\n",
       "      <td>60</td>\n",
       "      <td>110</td>\n",
       "      <td>409.1</td>\n",
       "    </tr>\n",
       "    <tr>\n",
       "      <th>1</th>\n",
       "      <td>60</td>\n",
       "      <td>117</td>\n",
       "      <td>479.0</td>\n",
       "    </tr>\n",
       "    <tr>\n",
       "      <th>2</th>\n",
       "      <td>60</td>\n",
       "      <td>103</td>\n",
       "      <td>340.0</td>\n",
       "    </tr>\n",
       "    <tr>\n",
       "      <th>3</th>\n",
       "      <td>45</td>\n",
       "      <td>109</td>\n",
       "      <td>282.4</td>\n",
       "    </tr>\n",
       "    <tr>\n",
       "      <th>4</th>\n",
       "      <td>45</td>\n",
       "      <td>117</td>\n",
       "      <td>406.0</td>\n",
       "    </tr>\n",
       "  </tbody>\n",
       "</table>\n",
       "</div>"
      ],
      "text/plain": [
       "   Duration  Pulse  Calories\n",
       "0        60    110     409.1\n",
       "1        60    117     479.0\n",
       "2        60    103     340.0\n",
       "3        45    109     282.4\n",
       "4        45    117     406.0"
      ]
     },
     "execution_count": 52,
     "metadata": {},
     "output_type": "execute_result"
    }
   ],
   "source": [
    "#Create a new “df_modified” dataframe that contains all the columns from df except for “Maxpulse”.\n",
    "df_modified = csv_data[['Duration','Pulse','Calories']]\n",
    "df_modified.head()"
   ]
  },
  {
   "cell_type": "code",
   "execution_count": 50,
   "id": "1e15910e",
   "metadata": {},
   "outputs": [],
   "source": [
    "#Delete the “Maxpulse” column from the main df dataframe\n",
    "del csv_data['Maxpulse']"
   ]
  },
  {
   "cell_type": "code",
   "execution_count": 51,
   "id": "23ab2c56",
   "metadata": {},
   "outputs": [
    {
     "data": {
      "text/html": [
       "<div>\n",
       "<style scoped>\n",
       "    .dataframe tbody tr th:only-of-type {\n",
       "        vertical-align: middle;\n",
       "    }\n",
       "\n",
       "    .dataframe tbody tr th {\n",
       "        vertical-align: top;\n",
       "    }\n",
       "\n",
       "    .dataframe thead th {\n",
       "        text-align: right;\n",
       "    }\n",
       "</style>\n",
       "<table border=\"1\" class=\"dataframe\">\n",
       "  <thead>\n",
       "    <tr style=\"text-align: right;\">\n",
       "      <th></th>\n",
       "      <th>Duration</th>\n",
       "      <th>Pulse</th>\n",
       "      <th>Calories</th>\n",
       "    </tr>\n",
       "  </thead>\n",
       "  <tbody>\n",
       "    <tr>\n",
       "      <th>0</th>\n",
       "      <td>60</td>\n",
       "      <td>110</td>\n",
       "      <td>409.1</td>\n",
       "    </tr>\n",
       "    <tr>\n",
       "      <th>1</th>\n",
       "      <td>60</td>\n",
       "      <td>117</td>\n",
       "      <td>479.0</td>\n",
       "    </tr>\n",
       "    <tr>\n",
       "      <th>2</th>\n",
       "      <td>60</td>\n",
       "      <td>103</td>\n",
       "      <td>340.0</td>\n",
       "    </tr>\n",
       "    <tr>\n",
       "      <th>3</th>\n",
       "      <td>45</td>\n",
       "      <td>109</td>\n",
       "      <td>282.4</td>\n",
       "    </tr>\n",
       "    <tr>\n",
       "      <th>4</th>\n",
       "      <td>45</td>\n",
       "      <td>117</td>\n",
       "      <td>406.0</td>\n",
       "    </tr>\n",
       "  </tbody>\n",
       "</table>\n",
       "</div>"
      ],
      "text/plain": [
       "   Duration  Pulse  Calories\n",
       "0        60    110     409.1\n",
       "1        60    117     479.0\n",
       "2        60    103     340.0\n",
       "3        45    109     282.4\n",
       "4        45    117     406.0"
      ]
     },
     "execution_count": 51,
     "metadata": {},
     "output_type": "execute_result"
    }
   ],
   "source": [
    "csv_data.head()"
   ]
  },
  {
   "cell_type": "code",
   "execution_count": 42,
   "id": "2d9e5e25",
   "metadata": {},
   "outputs": [
    {
     "data": {
      "text/plain": [
       "Duration      int64\n",
       "Pulse         int64\n",
       "Calories    float64\n",
       "dtype: object"
      ]
     },
     "execution_count": 42,
     "metadata": {},
     "output_type": "execute_result"
    }
   ],
   "source": [
    "csv_data.dtypes"
   ]
  },
  {
   "cell_type": "code",
   "execution_count": 43,
   "id": "ad7e2ff1",
   "metadata": {},
   "outputs": [
    {
     "data": {
      "text/plain": [
       "Duration    int64\n",
       "Pulse       int64\n",
       "Calories    int64\n",
       "dtype: object"
      ]
     },
     "execution_count": 43,
     "metadata": {},
     "output_type": "execute_result"
    }
   ],
   "source": [
    "#Convert the datatype of Calories column to int datatype.\n",
    "csv_data['Calories'] = csv_data['Calories'].astype(np.int64)\n",
    "csv_data.dtypes"
   ]
  },
  {
   "cell_type": "code",
   "execution_count": 44,
   "id": "757a8903",
   "metadata": {},
   "outputs": [
    {
     "data": {
      "text/plain": [
       "<AxesSubplot:xlabel='Duration', ylabel='Calories'>"
      ]
     },
     "execution_count": 44,
     "metadata": {},
     "output_type": "execute_result"
    },
    {
     "data": {
      "image/png": "[encoded data removed]",
      "text/plain": [
       "<Figure size 432x288 with 1 Axes>"
      ]
     },
     "metadata": {
      "needs_background": "light"
     },
     "output_type": "display_data"
    }
   ],
   "source": [
    "#Using pandas create a scatter plot for the two columns (Duration and Calories).\n",
    "csv_data.plot.scatter(x='Duration',y='Calories',c='DarkBlue')"
   ]
  },
  {
   "cell_type": "code",
   "execution_count": null,
   "id": "5abc1381",
   "metadata": {},
   "outputs": [],
   "source": []
  }
 ],
 "metadata": {
  "kernelspec": {
   "display_name": "Python 3 (ipykernel)",
   "language": "python",
   "name": "python3"
  },
  "language_info": {
   "codemirror_mode": {
    "name": "ipython",
    "version": 3
   },
   "file_extension": ".py",
   "mimetype": "text/x-python",
   "name": "python",
   "nbconvert_exporter": "python",
   "pygments_lexer": "ipython3",
   "version": "3.9.12"
  }
 },
 "nbformat": 4,
 "nbformat_minor": 5
}
